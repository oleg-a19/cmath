{
 "cells": [
  {
   "cell_type": "markdown",
   "id": "0ff6d4fb",
   "metadata": {},
   "source": [
    "# Разбор 1 контрольной по вычислительной математике"
   ]
  },
  {
   "cell_type": "markdown",
   "id": "fa3f28a2",
   "metadata": {},
   "source": [
    "## Задание 1"
   ]
  },
  {
   "cell_type": "markdown",
   "id": "93a04741",
   "metadata": {},
   "source": [
    "Построить интерполянт 2 степени с наименьшей ошибкой интерполяции для функции $f(x) = sinx$ на отрезке $[0;5]$. "
   ]
  },
  {
   "cell_type": "markdown",
   "id": "1a181c1d",
   "metadata": {},
   "source": [
    "### Решение"
   ]
  },
  {
   "cell_type": "markdown",
   "id": "e15bc87f",
   "metadata": {},
   "source": [
    "Известно, что интерполянт с наименьшей ошибкой - интерполянт, узлы которого совпадают с корнями полнома Чебышева.\n",
    "\n",
    "Поскольку необходимо построить интерполянт 2 степени, то необходимо 3 узла.\n",
    "\n",
    "Приведенный полином Чебышева третей степени на отрезке $[-1; 1]$ имеет вид:\n",
    "\n",
    "$$\n",
    "T_{3,  [-1,1]}(x) = x^3 - \\frac{3}{4}x\n",
    "$$\n",
    "\n",
    "Корни полинома $x_i$:\n",
    "\n",
    "$$\n",
    "x_1 = -\\frac{\\sqrt{3}}{2}\\\\\n",
    "x_2 = 0\\\\\n",
    "x_3 = \\frac{\\sqrt{3}}{2}\n",
    "$$\n",
    "\n",
    "Формула для преобразования корней полинома Чебышева на отрезок $[a,b]$:\n",
    "\n",
    "$$\n",
    "y_i = \\frac{1}{2} (a + b) + \\frac{1}{2}(b - a) x_i\n",
    "$$\n",
    "\n",
    "где $y_i$ - корни полинома Чебышева на отрезке $[a,b]$.\n",
    "\n",
    "Сам приведенный полином чебышева при этом:\n",
    "\n",
    "$$\n",
    "T_{3,  [a,b]}(y) = \\frac{(b-a)^3}{2^{2* 3-1}} cos\\left( 3 arccos\\frac{2y - (b+a)}{b-a}\\right)\n",
    "$$\n",
    "\n",
    "Более общая формула для полинома степени $k$:\n",
    "\n",
    "$$\n",
    "T_{k,  [a,b]}(y) = \\frac{(b-a)^k}{2^{2k-1}} cos\\left(k  arccos\\frac{2y - (b+a)}{b-a}\\right)\n",
    "$$\n",
    "\n",
    "Таким образом, искомые узлы:\n",
    "\n",
    "\n",
    "$$\n",
    "y_1 = 2.5 -\\frac{5\\sqrt{3}}{4}\\\\\n",
    "y_2 = 2.5\\\\\n",
    "y_3 = 2.5 + \\frac{5\\sqrt{3}}{4}\n",
    "$$\n",
    "\n",
    "Для построения интерполнятна можно воспользоваться интерполянтом в форме Лагранжа:\n",
    "\n",
    "$$\n",
    "I(y) = f(y_1) \\frac{(y-y_2)(y-y_3)}{(y_1 - y_2)(y_1 - y_3)} + f(y_2) \\frac{(y-y_1)(y-y_3)}{(y_2 - y_1)(y_2 - y_3)} + f(y_3) \\frac{(y-y_1)(y-y_2)}{(y_3 - y_1)(y_3 - y_2)}\n",
    "$$\n",
    "\n",
    "Для оценки ошибки вопспользуемся формулой остаточного члена интерполяции:\n",
    "\n",
    "$$\n",
    "f(y) - I(y) = \\frac{f^{(2+1)}(\\xi)}{(2+1)!} \\omega(y)\\\\\n",
    "\\omega(y) = (y - y_1) (y - y_2) (y - y_3)\\\\\n",
    "\\xi \\in (a, b)\n",
    "$$\n",
    "\n",
    "Если в качестве узлов интерполяции  выбраны корни полинома Чебышева, то\n",
    "\n",
    "$$\n",
    "\\omega(y) = T_{3, [a,b]}(y)\n",
    "$$\n",
    "\n",
    "причем,\n",
    "\n",
    "$$\n",
    "|T_{3, [a,b]}(y)| \\le \\frac{5^3}{2^{6-1}} = \\frac{125}{32}, y \\in [a, b]\n",
    "$$\n",
    "\n",
    "Тогда ошибку можно оценить:\n",
    "\n",
    "$$\n",
    "|f(y) - I(y)| \\le \\frac{|f^{(2+1)}(\\xi)|}{(2+1)!} \\frac{125}{32} \\le \\frac{125 M}{192}\n",
    "$$\n",
    "\n",
    "где M - максимум модуля третьей производной функции на отрезке $[a, b]$. Учитывая, что M = 1, получим:\n",
    "\n",
    "$$\n",
    "|f(y) - I(y)| \\le \\frac{125}{192}\n",
    "$$\n",
    "\n",
    "Реализуем в коде:"
   ]
  },
  {
   "cell_type": "code",
   "execution_count": 18,
   "id": "8691d926",
   "metadata": {},
   "outputs": [
    {
     "name": "stdout",
     "output_type": "stream",
     "text": [
      "Узлы интерполяции:  [0.33493649 2.5        4.66506351]\n",
      "-0.199158982067505*x**2 + 0.689201236915084*x + 0.120212689738154\n"
     ]
    },
    {
     "data": {
      "text/plain": [
       "[<matplotlib.lines.Line2D at 0x7fa33db2a490>]"
      ]
     },
     "execution_count": 18,
     "metadata": {},
     "output_type": "execute_result"
    },
    {
     "data": {
      "image/png": "[encoded data removed]",
      "text/plain": [
       "<Figure size 432x288 with 1 Axes>"
      ]
     },
     "metadata": {
      "needs_background": "light"
     },
     "output_type": "display_data"
    }
   ],
   "source": [
    "import numpy as np\n",
    "from sympy import symbols, simplify\n",
    "import matplotlib.pyplot as plt\n",
    "\n",
    "def build_interpolator(nodes, func):\n",
    "    P = 0\n",
    "    x = symbols(\"x\")\n",
    "    for k in range(len(nodes)):\n",
    "        l = 1\n",
    "        for i in range(len(nodes)):\n",
    "            if i != k:\n",
    "                l *= (x - nodes[i]) / (nodes[k] - nodes[i])\n",
    "        P += l * func(nodes[k])\n",
    "    return simplify(P), x\n",
    "\n",
    "def func(x):\n",
    "    return np.sin(x)\n",
    "\n",
    "nodes = np.array([-3**0.5 / 2, 0, 3**0.5 / 2])\n",
    "a, b = 0, 5\n",
    "nodes = (b + a) / 2 + (b - a) / 2 * nodes\n",
    "print(\"Узлы интерполяции: \", nodes)\n",
    "interpolator, x = build_interpolator(nodes, func)\n",
    "print(interpolator)\n",
    "\n",
    "x_array = np.linspace(0, 5, 1000)\n",
    "y_interp = np.zeros_like(x_array)\n",
    "for index, x_elem in enumerate(x_array):\n",
    "    y_interp[index] = interpolator.subs(x, x_elem)\n",
    "\n",
    "plt.scatter(nodes, func(nodes))\n",
    "plt.plot(x_array, func(x_array))\n",
    "plt.plot(x_array, y_interp)\n",
    "\n",
    "\n",
    "\n",
    "\n",
    "\n",
    "    "
   ]
  },
  {
   "cell_type": "markdown",
   "id": "c3c78c51",
   "metadata": {},
   "source": [
    "## Задание 2"
   ]
  },
  {
   "cell_type": "markdown",
   "id": "e63d3c85",
   "metadata": {},
   "source": [
    "Построить квадратуру Гаусса для произвольной функции на отрезке $[-3, 1]$, используя три корня полинома Лежандра. Вычислить интеграл от функции $f(x) = x^3 + 5x^2 + 10x + 4.5$ при помощи квадратуры. Оценить ошибку интегрирования."
   ]
  },
  {
   "cell_type": "markdown",
   "id": "6ad9f445",
   "metadata": {},
   "source": [
    "### Решение"
   ]
  },
  {
   "cell_type": "markdown",
   "id": "e2032627",
   "metadata": {},
   "source": [
    "Полином лежандра третьей степни имеет вид:\n",
    "    \n",
    "$$\n",
    "L_{3, [-1,1]} (x)= \\frac{1}{2} (5x^3 - 3x)\n",
    "$$\n",
    "\n",
    "Корни полинома:\n",
    "\n",
    "$$\n",
    "x_1 = -\\sqrt{\\frac{3}{5}}\\\\\n",
    "x_2 = 0\\\\\n",
    "x_3 = \\sqrt{\\frac{3}{5}}\\\\\n",
    "$$\n",
    "\n",
    "Корни полинома $y_1, y_2, y_3$ на произвольном отрезке $[a,b]$ задаются:\n",
    "\n",
    "$$\n",
    "y_i = \\frac{1}{2} (a + b) + \\frac{1}{2}(b - a) x_i\n",
    "$$\n",
    "\n",
    "Конкретно:\n",
    "\n",
    "$$\n",
    "y_1 = -1 - 2 \\sqrt{\\frac{3}{5}}\\\\\n",
    "y_2 = -1\\\\\n",
    "y_3 = -1 + 2 \\sqrt{\\frac{3}{5}}\\\\\n",
    "$$\n",
    "\n",
    "Для построения квадратуры Гаусса приблизим функцию интерполянтом Лагранжа, узлы которого совпадают с узлами полинома Лежандра:\n",
    "\n",
    "$$\n",
    "P(y) = \\sum_{i=1}^{3} f(y_i) \\phi_i(y)\\\\\n",
    "\\phi_1(y) = \\frac{(y - y_2)(y - y_3)}{(y_1 - y_2)(y_1 - y_3)}\\\\\n",
    "\\phi_2(y) = \\frac{(y - y_1)(y - y_3)}{(y_2 - y_1)(y_2 - y_3)}\\\\\n",
    "\\phi_3(y) = \\frac{(y - y_1)(y - y_2)}{(y_3 - y_1)(y_3 - y_2)}\\\\\n",
    "$$\n",
    "\n",
    "Квадратура будет выглядеть следующим образом:\n",
    "\n",
    "$$\n",
    "I \\approx \\int_{-3}^{1} \\sum_{i=1}^{3} f(y_i) \\phi_i(y) dy = \\\\\n",
    "\\sum_{i=1}^{3} f(y_i) \\int_{-3}^{1}\\phi_i(y) dy\n",
    "$$\n",
    "\n",
    "Стоит отметить, что квадратуры Гаусса порядка $n$ точны для полиномов степени $2n-1$. Это означает, что значение интеграла от полинома степени не выше $2n-1$ совпадает с аналитическим расчетом. Значит, вычисление интеграла от полинома степни 3 совпадет с точным значением интеграла.\n",
    "\n"
   ]
  },
  {
   "cell_type": "code",
   "execution_count": 12,
   "id": "f304de3e",
   "metadata": {},
   "outputs": [
    {
     "name": "stdout",
     "output_type": "stream",
     "text": [
      "Узлы квадратуры:  [-2.54919334 -1.          0.54919334]\n",
      "Квадратура Гаусса:  1.11111111111111*f_0 + 1.77777777777778*f_1 + 1.11111111111111*f_2\n"
     ]
    }
   ],
   "source": [
    "import numpy as np\n",
    "from sympy import symbols, simplify, integrate\n",
    "import matplotlib.pyplot as plt\n",
    "\n",
    "def build_interpolator(nodes):\n",
    "    P = 0\n",
    "    x = symbols(\"x\")\n",
    "    for k in range(len(nodes)):\n",
    "        l = 1\n",
    "        for i in range(len(nodes)):\n",
    "            if i != k:\n",
    "                l *= (x - nodes[i]) / (nodes[k] - nodes[i])\n",
    "        f = symbols(\"f_\" + str(k))\n",
    "        P += l * f\n",
    "    return simplify(P), x\n",
    "\n",
    "x = np.array([-(3 / 5)**0.5, 0, (3 / 5)**0.5])\n",
    "a, b = -3, 1\n",
    "y = (b + a) / 2 + (b - a) / 2 * x\n",
    "\n",
    "print(\"Узлы квадратуры: \", y)\n",
    "\n",
    "interpolator, x_var = build_interpolator(y)\n",
    "q = integrate(interpolator, (x_var, -3, 1))\n",
    "print(\"Квадратура Гаусса: \", q)\n",
    "\n"
   ]
  },
  {
   "cell_type": "markdown",
   "id": "2c940854",
   "metadata": {},
   "source": [
    "## Задание 3"
   ]
  },
  {
   "cell_type": "markdown",
   "id": "8616b4a8",
   "metadata": {},
   "source": [
    "Для функции заданной таблично найти значение 1-ой производной в точке $x_0 = 0.47$  c максимальным порядком точности. Обязательно привести таблицу разделенных разностей!\n",
    "\n",
    "\n",
    "|  x  |0.1  | 0.3 | 0.42| 0.5 | 0.73|\n",
    "| --- | --- | --- | --- | --- | --- |\n",
    "|  y  |0.0  |-3.1 | 1.6 |1.45 |2.34 |"
   ]
  },
  {
   "cell_type": "markdown",
   "id": "f7b979bf",
   "metadata": {},
   "source": [
    "### Решение"
   ]
  },
  {
   "cell_type": "markdown",
   "id": "ac3d82f4",
   "metadata": {},
   "source": [
    "Построим интерполянт Ньютона $I(x)$ функции $f(x)$, заданной таблично. Узлы интерполяции обозначим как $x_1, x_2, x_3, x_4, x_5$, а значение функции в этих узлах -$y_1, y_2, y_3, y_4, y_5$.\n",
    "Справедливо равенство:\n",
    "\n",
    "$$\n",
    "f(x) = I(x) + R(x)\n",
    "$$\n",
    "\n",
    "$R(x)$ - остаточный член интерполяции:\n",
    "\n",
    "$$\n",
    "R(x) = \\frac{f^{(5)}(\\xi)}{5!} \\omega(x)\\\\\n",
    "\\omega(x) = (x - x_1)(x - x_2)(x - x_3)(x - x_4)(x - x_5)\\\\\n",
    "\\xi \\in [x_1, x_5]\n",
    "$$\n",
    "\n",
    "Дифференцируя обе части, получим:\n",
    "\n",
    "$$\n",
    "f'(x) = I'(x) + R'(x)\n",
    "$$\n",
    "\n",
    "Конкретно в точке $x_0$:\n",
    "\n",
    "$$\n",
    "f'(x_0) = I'(x_0) + R'(x_0)\\\\\n",
    "|R'(x_0)| \\le \\frac{M}{5!} |\\omega'(x_0)|\\\\\n",
    "M = \\max_{[x_1, x_5]}|f(x)|\n",
    "$$\n",
    "\n",
    "Если весь интервал интерполяции обозначить за $h$, то получим, что:\n",
    "\n",
    "$$\n",
    "|\\omega'(x_0)| \\le C_1 h^4\\\\\n",
    "$$\n",
    "\n",
    "А это означает, что:\n",
    "\n",
    "$$\n",
    "|R'(x_0)| \\le C h^4\\\\\n",
    "$$\n",
    "\n",
    "То есть, порядок аппроксимации производной при помощи интерполяции является четвертым. В этом случае это наибольший возможный порядок. Осталось построить разделенные разности, рассчитать интерполяционный полином и вычислить его производную в точке x_0.\n",
    "\n",
    "Разделенные разности:"
   ]
  },
  {
   "cell_type": "code",
   "execution_count": 27,
   "id": "29373ff3",
   "metadata": {},
   "outputs": [
    {
     "data": {
      "text/html": [
       "<div>\n",
       "<style scoped>\n",
       "    .dataframe tbody tr th:only-of-type {\n",
       "        vertical-align: middle;\n",
       "    }\n",
       "\n",
       "    .dataframe tbody tr th {\n",
       "        vertical-align: top;\n",
       "    }\n",
       "\n",
       "    .dataframe thead th {\n",
       "        text-align: right;\n",
       "    }\n",
       "</style>\n",
       "<table border=\"1\" class=\"dataframe\">\n",
       "  <thead>\n",
       "    <tr style=\"text-align: right;\">\n",
       "      <th></th>\n",
       "      <th>0</th>\n",
       "      <th>1</th>\n",
       "      <th>2</th>\n",
       "      <th>3</th>\n",
       "      <th>4</th>\n",
       "    </tr>\n",
       "  </thead>\n",
       "  <tbody>\n",
       "    <tr>\n",
       "      <th>0</th>\n",
       "      <td>0.00</td>\n",
       "      <td>-15.500000</td>\n",
       "      <td>170.833333</td>\n",
       "      <td>-940.104167</td>\n",
       "      <td>2318.139463</td>\n",
       "    </tr>\n",
       "    <tr>\n",
       "      <th>1</th>\n",
       "      <td>-3.10</td>\n",
       "      <td>39.166667</td>\n",
       "      <td>-205.208333</td>\n",
       "      <td>520.323695</td>\n",
       "      <td>0.000000</td>\n",
       "    </tr>\n",
       "    <tr>\n",
       "      <th>2</th>\n",
       "      <td>1.60</td>\n",
       "      <td>-1.875000</td>\n",
       "      <td>18.530856</td>\n",
       "      <td>0.000000</td>\n",
       "      <td>0.000000</td>\n",
       "    </tr>\n",
       "    <tr>\n",
       "      <th>3</th>\n",
       "      <td>1.45</td>\n",
       "      <td>3.869565</td>\n",
       "      <td>0.000000</td>\n",
       "      <td>0.000000</td>\n",
       "      <td>0.000000</td>\n",
       "    </tr>\n",
       "    <tr>\n",
       "      <th>4</th>\n",
       "      <td>2.34</td>\n",
       "      <td>0.000000</td>\n",
       "      <td>0.000000</td>\n",
       "      <td>0.000000</td>\n",
       "      <td>0.000000</td>\n",
       "    </tr>\n",
       "  </tbody>\n",
       "</table>\n",
       "</div>"
      ],
      "text/plain": [
       "      0          1           2           3            4\n",
       "0  0.00 -15.500000  170.833333 -940.104167  2318.139463\n",
       "1 -3.10  39.166667 -205.208333  520.323695     0.000000\n",
       "2  1.60  -1.875000   18.530856    0.000000     0.000000\n",
       "3  1.45   3.869565    0.000000    0.000000     0.000000\n",
       "4  2.34   0.000000    0.000000    0.000000     0.000000"
      ]
     },
     "execution_count": 27,
     "metadata": {},
     "output_type": "execute_result"
    }
   ],
   "source": [
    "import numpy as np\n",
    "import pandas as pd\n",
    "from sympy import symbols, simplify, diff\n",
    "\n",
    "def diff_matrix(x, y):\n",
    "    n = len(x)\n",
    "    coef = np.zeros([n, n])\n",
    "    coef[:, 0] = y\n",
    "    \n",
    "    for j in range(1, n):\n",
    "        for i in range(n - j):\n",
    "            coef[i][j] = (coef[i + 1][j-1] - coef[i][j - 1]) / (x[i + j] - x[i])\n",
    "    return coef\n",
    "\n",
    "x_array = np.array([0.1, 0.3, 0.42, 0.5, 0.73])\n",
    "y_array = np.array([0.0, -3.1, 1.6, 1.45, 2.34])\n",
    "\n",
    "pd.DataFrame(diff_matrix(x_array, y_array))"
   ]
  },
  {
   "cell_type": "markdown",
   "id": "8a2727da",
   "metadata": {},
   "source": [
    "Построим полином:"
   ]
  },
  {
   "cell_type": "code",
   "execution_count": 29,
   "id": "d733fd32",
   "metadata": {},
   "outputs": [
    {
     "name": "stdout",
     "output_type": "stream",
     "text": [
      "Интерполяционный полином:  2318.13946304899*x**4 - 4000.04825789134*x**3 + 2351.14754353379*x**2 - 528.678322409601*x + 33.1245911172087\n",
      "Производная полинома:  9272.55785219597*x**3 - 12000.144773674*x**2 + 4702.29508706757*x - 528.678322409601\n",
      "Производная в точке:  -6.72683810388708\n"
     ]
    }
   ],
   "source": [
    "coeffs = diff_matrix(x_array, y_array)[0, :]\n",
    "x = symbols(\"x\")\n",
    "\n",
    "tmp = 1\n",
    "\n",
    "P = 0\n",
    "for i  in range(len(coeffs)):\n",
    "    P += coeffs[i] * tmp\n",
    "    tmp *= (x - x_array[i])\n",
    "\n",
    "P = simplify(P)\n",
    "\n",
    "print(\"Интерполяционный полином: \", P)\n",
    "\n",
    "P_der = diff(P)\n",
    "print(\"Производная полинома: \", P_der)\n",
    "\n",
    "results = P_der.subs(x, 0.47)\n",
    "print(\"Производная в точке: \", results)\n",
    "\n",
    "    "
   ]
  },
  {
   "cell_type": "markdown",
   "id": "a74794f8",
   "metadata": {},
   "source": [
    "## Задание 4"
   ]
  },
  {
   "cell_type": "markdown",
   "id": "d5f9272a",
   "metadata": {},
   "source": [
    "На приведенном шаблоне из трех точек $(x_{i-0.5}, x_i, x_{i+1}) = (x_i - h/2, x_i, x_i + h)$ с помощью метода неопределенных коэффициентов построить аппроксимацию первой производной функции в точке $x_{i-0.5}$ с наибольшим возможным порядком. Выписать формулу для оптимального шага дифференцирования."
   ]
  },
  {
   "cell_type": "markdown",
   "id": "367858db",
   "metadata": {},
   "source": [
    "### Решение"
   ]
  },
  {
   "cell_type": "markdown",
   "id": "1314df60",
   "metadata": {},
   "source": [
    "Разложим функцию в точках $x_i, x_{i+1}$ с центром в точке $x_{i-0.5}$:\n",
    "\n",
    "$$\n",
    "f(x_i) = f(x_{i-0.5}) + f'(x_{i-0.5}) \\frac{h}{2} + f''(x_{i-0.5}) \\frac{h^2}{8} + f'''(\\xi_1) \\frac{h^3}{48}\\\\\n",
    "f(x_{i+1}) = f(x_{i-0.5}) + f'(x_{i-0.5}) \\frac{3h}{2} + f''(x_{i-0.5}) \\frac{9h^2}{8} + f'''(\\xi_1) \\frac{27h^3}{48}\n",
    "$$\n",
    "\n",
    "Пусть $A, B, C$ - коэффициенты при $f(x_{i-0.5}), f(x_{i}), f(x_{i+1})$ соответственно, тогда:\n",
    "\n",
    "$$\n",
    "A f(x_{i-0.5}) + B f(x_{i}) + C f(x_{i+1}) =\\\\\n",
    "= A f(x_{i-0.5}) + B \\left(f(x_{i-0.5}) + f'(x_{i-0.5}) \\frac{h}{2} + f''(x_{i-0.5}) \\frac{h^2}{8} + f'''(\\xi_1) \\frac{h^3}{48}\\right) +\\\\\n",
    "+ C\\left(f(x_{i-0.5}) + f'(x_{i-0.5}) \\frac{3h}{2} + f''(x_{i-0.5}) \\frac{9h^2}{8} + f'''(\\xi_2) \\frac{27h^3}{48}\\right) = \\\\\n",
    "= f(x_{i-0.5}) ( A + B + C) + \\\\\n",
    "+ f'(x_{i-0.5}) \\left(B \\frac{h}{2} + C \\frac{3h}{2}\\right) + \\\\\n",
    "+ f''(x_{i-0.5}) \\left(B \\frac{h^2}{8} + C\\frac{9h^2}{8}\\right) + \\\\\n",
    "+ B f'''(\\xi_1) \\frac{h^3}{48} + C f'''(\\xi_2) \\frac{9h^3}{16}\n",
    "$$\n",
    "\n",
    "где\n",
    "\n",
    "$$\n",
    "\\xi_1 \\in (x_{i-0.5}, x_i)\\\\\n",
    "\\xi_2 \\in (x_{i-0.5}, x_{i + 1})\\\\\n",
    "$$\n",
    "\n",
    "Для аппроксимации первой производной со вторым порядком необходимо и достаточно удовлетворение системы уравнений:\n",
    "\n",
    "$$\n",
    "A + B + C = 0\\\\\n",
    "B \\frac{h}{2} + C \\frac{3h}{2} = 1\\\\\n",
    "B \\frac{h^2}{8} + C\\frac{9h^2}{8} = 0\n",
    "$$\n",
    "\n",
    "Решение этой системы:\n",
    "\n",
    "$$\n",
    "A = -\\frac{8}{3h}\\\\\n",
    "B = \\frac{3}{h}\\\\\n",
    "C = - \\frac{1}{3h}\n",
    "$$\n",
    "\n",
    "При подстановке коэффициентов в линейную комбинацию получаем:\n",
    "\n",
    "$$\n",
    "-\\frac{8}{3h} f(x_{i-0.5}) + \\frac{3}{h} f(x_{i}) + - \\frac{1}{3h} f(x_{i+1}) =\\\\\n",
    "= f'(x_{i-0.5}) + f'''(\\xi_1) \\frac{h^2}{16} - f'''(\\xi_2) \\frac{3h^2}{16}\n",
    "$$\n",
    "\n",
    "Что свидетельствует о втором порядке аппроксимации.\n",
    "\n",
    "Оценим ошибку метода:\n",
    "\n",
    "$$\n",
    "E_{метода} \\le M \\frac{h^2}{4} \\\\\n",
    "M = \\max_{[x_{i-0.5}, x_{i + 1}]} |f'''(x)|\n",
    "$$\n",
    "\n",
    "Если считать, что функция вычисляется с некоторой ошибкой $\\epsilon$, то ошибку вычисления можно оценить как:\n",
    "\n",
    "$$\n",
    "E_{выч} \\le \\frac{8\\epsilon + 9\\epsilon + \\epsilon}{3h} = \\frac{6\\epsilon}{h}\n",
    "$$\n",
    "\n",
    "Таким образом, суммарная ошибка:\n",
    "\n",
    "$$\n",
    "E = M \\frac{h^2}{4} + \\frac{6\\epsilon}{h}\n",
    "$$\n",
    "\n",
    "Оптимальный шаг можно получить, приравняв выражение для производной по $h$ к нулю:\n",
    "\n",
    "$$\n",
    "M \\frac{h}{2} -\\frac{6\\epsilon}{h^2} = 0\\\\\n",
    "h = \\sqrt[3]{\\frac{12\\epsilon}{M}}\n",
    "$$"
   ]
  },
  {
   "cell_type": "markdown",
   "id": "4ae77e4e",
   "metadata": {},
   "source": [
    "## Задание 5"
   ]
  },
  {
   "cell_type": "markdown",
   "id": "3f20427f",
   "metadata": {},
   "source": [
    "Известно, что уравнение $e^x = 3x^2$ имеет корень вблизи $x_0$ = 0.91. Для его нахождения предлагаются методы:\n",
    "\n",
    "$$\n",
    "1) x_{n+1} = 2 ln(\\sqrt{3}x_{n})\\\\\n",
    "2 ) x_{n+1} = \\sqrt{\\frac{e^{x_n}}{3}}\\\\\n",
    "$$\n",
    "\n",
    "Для каждого из методов оценить количество итераций, необходимое для уменьшения ошибки в $10^3$\n"
   ]
  },
  {
   "cell_type": "markdown",
   "id": "72f982de",
   "metadata": {},
   "source": [
    "### Решение"
   ]
  },
  {
   "cell_type": "markdown",
   "id": "98b3d779",
   "metadata": {},
   "source": [
    "Исследуем на сходимость первый метод. Для сходимости достаточно, чтобы в окрестности корня, откуда берется начальное приближение, производная правой части метода была по абсолютной величине меньше 1.\n",
    "\n",
    "$$\n",
    "f(x) = 2 ln(\\sqrt{3}x) = \\frac{2}{3}ln3 + 2 ln(x)\\\\\n",
    "f'(x) = \\left(2 ln(\\sqrt{3}x)\\right)' = \\frac{2}{x}\\\\\n",
    "f'(x_0) = \\frac{2}{0.91} > 1\n",
    "$$\n",
    "\n",
    "Поэтому первый метод не обязательно сходится (заметим, что условие, изложенное выше, строго не является необходимым)\n",
    "\n",
    "Аналогично исследуем второй метод:\n",
    "\n",
    "$$\n",
    "f(x) = \\sqrt{\\frac{e^{x}}{3}} = \\frac{e^{x/2}}{\\sqrt{3}}\\\\\n",
    "f'(x) = \\left(\\frac{e^{x/2}}{\\sqrt{3}}\\right)' = \\frac{e^{x/2}}{2\\sqrt{3}}\\\\\n",
    "f'(x_0) = \\frac{e^{0.91/2}}{2\\sqrt{3}}\\approx 0.455 < 1\n",
    "$$\n",
    "\n",
    "Значит, первый метод сходится.\n",
    "\n",
    "Если каждую итерацию ошибка в решении сокращается в 0.455 раз, то для необходимого количества итераций можно получить:\n",
    "\n",
    "$$\n",
    "0.455^i = 10^{-3}\n",
    "$$\n",
    "\n",
    "или\n",
    "\n",
    "$$\n",
    "i ln(0.455) = -3 ln(10)\\\\\n",
    "i = -\\frac{3 ln(10)}{ln(0.455)} \\approx 8.7\n",
    "$$\n",
    "\n",
    "То есть, необходимо 9 итераций."
   ]
  },
  {
   "cell_type": "markdown",
   "id": "de11c836",
   "metadata": {},
   "source": [
    "## Задание 6"
   ]
  },
  {
   "cell_type": "markdown",
   "id": "54cfc8e8",
   "metadata": {},
   "source": [
    "Вычислить интеграл \n",
    "$$\n",
    "\\int_0^{+\\infty} \\frac{e^{-x} - 1}{x + x^2}dx\n",
    "$$\n",
    "методом трапеций с точностью $\\epsilon = 10^{-3}$. Оценить шаг интегрирования, необходимый для достижения нужной точности"
   ]
  },
  {
   "cell_type": "markdown",
   "id": "a0368075",
   "metadata": {},
   "source": [
    "### Решение"
   ]
  },
  {
   "cell_type": "markdown",
   "id": "e9cfc38e",
   "metadata": {},
   "source": [
    "Для начала заметим, что в нуле и числитель, и знаменатель эквивалентены $x$, а значит в нуле не имеется особенности, функцию можно доопределить по непрерывности:\n",
    "\n",
    "$$\n",
    "f(x) =\n",
    "\\begin{cases}\n",
    " \\frac{e^{-x} - 1}{x + x^2}, x > 0\\\\\n",
    " 1, x = 0\\\\\n",
    "\\end{cases}\n",
    "$$\n",
    "\n",
    "Значит, интеграл имеет одну особую точку в бесконечности. Разобъем интеграл на 2:\n",
    "\n",
    "$$\n",
    "\\int_0^{+\\infty} f(x) dx = \\int_0^M f(x) dx  + \\int_M^{+\\infty} f(x) dx \n",
    "$$\n",
    "\n",
    "M выберем таким образом, чтобы:\n",
    "\n",
    "$$\n",
    "|\\int_M^{+\\infty} f(x) dx |< \\frac{\\epsilon}{2}  \n",
    "$$\n",
    "\n",
    "Очевидно, что:\n",
    "$$\n",
    "|\\frac{e^{-x} - 1}{x + x^2}| \\le \\frac{1 + 1}{0 + x^2} = \\frac{2}{x^2}, x>0\n",
    "$$\n",
    "\n",
    "Значит\n",
    "$$\n",
    "|\\int_M^{+\\infty} f(x) dx | \\le \\int_M^{+\\infty} |f(x)| dx \\le \\int_M^{+\\infty}\\frac{2}{x^2}dx = \\frac{2}{M}\n",
    "$$\n",
    "\n",
    "и $M$ должно удовлетворять:\n",
    "\n",
    "$$\n",
    "M > \\frac{2}{\\epsilon} = 2 * 10^3\n",
    "$$\n",
    "\n",
    "Интеграл\n",
    "\n",
    "$$\n",
    "\\int_0^M f(x) dx \n",
    "$$\n",
    "\n",
    "можно вычислить при помощи метода трапеций. Ошибка интегрирования при его использовании оценивается по формуле:\n",
    "\n",
    "$$\n",
    "\\max_{[0, M]}| f''(x)| (M - 0) \\frac{h^2}{12}\n",
    "$$\n",
    "\n",
    "Вторая производная выражается:\n",
    "\n",
    "$$\n",
    "\\frac{2 e^{-x} (2 x + 1)}{(x + x^2)^2} + (e^{-x} - 1) \\left(\\frac{2 (2 x + 1)^2}{(x + x^2)^3} - \\frac{2}{(x + x^2)^2}\\right) + \\frac{e^{-x}}{x + x^2}\n",
    "$$\n",
    "\n",
    "Для ее оценки построим график"
   ]
  },
  {
   "cell_type": "code",
   "execution_count": 19,
   "id": "03e338c6",
   "metadata": {},
   "outputs": [
    {
     "data": {
      "text/plain": [
       "[<matplotlib.lines.Line2D at 0x7f7899090e50>]"
      ]
     },
     "execution_count": 19,
     "metadata": {},
     "output_type": "execute_result"
    },
    {
     "data": {
      "image/png": "[encoded data removed]",
      "text/plain": [
       "<Figure size 432x288 with 1 Axes>"
      ]
     },
     "metadata": {
      "needs_background": "light"
     },
     "output_type": "display_data"
    }
   ],
   "source": [
    "from sympy import exp, simplify, symbols\n",
    "import numpy as np\n",
    "import matplotlib.pyplot as plt\n",
    "\n",
    "x = symbols(\"x\")\n",
    "\n",
    "func = (exp(-x) - 1) / (x + x**2)\n",
    "der = func.diff(x)\n",
    "der = simplify(der)\n",
    "second_der = der.diff(x)\n",
    "second_der = simplify(der)\n",
    "\n",
    "x_array = np.linspace(0,10, 1000)\n",
    "y_array = np.zeros_like(x_array)\n",
    "for i in range(len(y_array)):\n",
    "    y_array[i] = second_der.subs(x, x_array[i])\n",
    "\n",
    "plt.plot(x_array, y_array)"
   ]
  },
  {
   "cell_type": "markdown",
   "id": "1927f597",
   "metadata": {},
   "source": [
    "Видно, что вторая производная достигает максимума около нуля, а также не превосходит двойки. Значит\n",
    "\n",
    "$$\n",
    "\\max_{[0, M]}| f''(x)| (M - 0) \\frac{h^2}{12} \\le 2M \\frac{h^2}{12} = \\frac{Mh^2}{6}\n",
    "$$\n",
    "\n",
    "Ограничим ошибку интегрирования $\\frac{\\epsilon}{2}$, тогда неравенство на шаг:\n",
    "\n",
    "$$\n",
    "h \\le \\sqrt{\\frac{\\epsilon}{3M}} = \\sqrt{\\frac{10^{-3}}{6 * 10^{3}}} \\approx 4 * 10^{-4}\n",
    "$$\n",
    "\n",
    "А теперь осталось лишь вычислить интеграл!"
   ]
  },
  {
   "cell_type": "code",
   "execution_count": 21,
   "id": "b97d9f98",
   "metadata": {},
   "outputs": [
    {
     "name": "stdout",
     "output_type": "stream",
     "text": [
      "-1.172663172282825\n"
     ]
    }
   ],
   "source": [
    "result = 0\n",
    "x = 0\n",
    "M = 2e3\n",
    "step = 4e-4\n",
    "previous_func = 1\n",
    "\n",
    "def function(x):\n",
    "    return (np.exp(-x) - 1) / (x + x**2)\n",
    "    \n",
    "while x <= M:\n",
    "    x += step \n",
    "    next_func = function(x)\n",
    "    result += (next_func + previous_func) / 2 * step\n",
    "    previous_func = next_func\n",
    "\n",
    "print(result)\n",
    "\n",
    "\n",
    "    "
   ]
  },
  {
   "cell_type": "markdown",
   "id": "a538be8e",
   "metadata": {},
   "source": [
    "Точное значение интеграла может быть вычислено аналитически (не совсем - при помощи функции ошибок) и составит -1.17356..."
   ]
  },
  {
   "cell_type": "code",
   "execution_count": null,
   "id": "e407de0f",
   "metadata": {},
   "outputs": [],
   "source": []
  }
 ],
 "metadata": {
  "kernelspec": {
   "display_name": "Python 3",
   "language": "python",
   "name": "python3"
  },
  "language_info": {
   "codemirror_mode": {
    "name": "ipython",
    "version": 3
   },
   "file_extension": ".py",
   "mimetype": "text/x-python",
   "name": "python",
   "nbconvert_exporter": "python",
   "pygments_lexer": "ipython3",
   "version": "3.7.11"
  }
 },
 "nbformat": 4,
 "nbformat_minor": 5
}
